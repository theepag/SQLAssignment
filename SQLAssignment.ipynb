{
  "nbformat": 4,
  "nbformat_minor": 0,
  "metadata": {
    "colab": {
      "provenance": []
    },
    "kernelspec": {
      "name": "python3",
      "display_name": "Python 3"
    },
    "language_info": {
      "name": "python"
    }
  },
  "cells": [
    {
      "cell_type": "code",
      "source": [
        "!pip install Faker"
      ],
      "metadata": {
        "colab": {
          "base_uri": "https://localhost:8080/"
        },
        "id": "0g5Ynu86ArIy",
        "outputId": "270a5230-9b32-43a1-fe0a-e801c8ead895"
      },
      "execution_count": null,
      "outputs": [
        {
          "output_type": "stream",
          "name": "stdout",
          "text": [
            "Requirement already satisfied: Faker in /usr/local/lib/python3.10/dist-packages (20.0.0)\n",
            "Requirement already satisfied: python-dateutil>=2.4 in /usr/local/lib/python3.10/dist-packages (from Faker) (2.8.2)\n",
            "Requirement already satisfied: six>=1.5 in /usr/local/lib/python3.10/dist-packages (from python-dateutil>=2.4->Faker) (1.16.0)\n"
          ]
        }
      ]
    },
    {
      "cell_type": "code",
      "source": [
        "import faker\n",
        "import numpy as np\n",
        "import pandas as pd\n",
        "import random\n",
        "from faker import Faker\n",
        "from datetime import datetime, timedelta\n",
        "fake = Faker()\n",
        "\n",
        "def generate_student_data(num_records):\n",
        "  student_df = pd.DataFrame({\n",
        "    \"StudentName\": [fake.name() for _ in range(num_records)],\n",
        "    \"StudentID\": [i for i in range(1000, 1000 + num_records)],\n",
        "    \"StudentDOB\": generate_random_dates('1950-01-01', '2006-01-01', num_records),\n",
        "    \"StudentGender\":  fake.random_elements(['Male', 'Female', 'Other'], num_records),\n",
        "    \"StudentEenrolmentDate\": generate_random_dates('1950-01-01', '2023-01-01', num_records)\n",
        "    })\n",
        "  student_df.set_index('StudentID', inplace=True)\n",
        "  missing_indices = np.random.choice(student_df.index, size=50, replace=False)\n",
        "  student_df.loc[missing_indices, 'StudentDOB'] = np.nan\n",
        "  return student_df\n",
        "\n",
        "def generate_random_dates(start_date, end_date, count):\n",
        "    start_datetime = datetime.strptime(start_date, '%Y-%m-%d')\n",
        "    end_datetime = datetime.strptime(end_date, '%Y-%m-%d')\n",
        "    random_dates = [fake.date_between(start_date=start_datetime, end_date=end_datetime) for _ in range(count)]\n",
        "    return random_dates\n",
        "\n",
        "def generate_courses_data():\n",
        "\n",
        "    course_department_mapping = {\n",
        "        'Computer Science': 'PAM',\n",
        "        'Data Science': 'PAM',\n",
        "        'Physics': 'PAM',\n",
        "        'Architecture': 'CA',\n",
        "        'Fashion': 'CA',\n",
        "        'Photography': 'CA',\n",
        "        'Music': 'CA',\n",
        "        'Film': 'CA'\n",
        "        }\n",
        "\n",
        "    course_dept = []\n",
        "    course_id = [i for i in range(2000, 3000)]\n",
        "    course_name = fake.random_choices(list(course_department_mapping.keys()), 1000)\n",
        "    for i in course_name:\n",
        "      tem = course_department_mapping[i]\n",
        "      course_dept.append(tem)\n",
        "\n",
        "    course_duration = fake.random_elements([6, 12, 18], 1000)\n",
        "    level = fake.random_elements(['Undergraduate', 'Postgraduate'], 1000)\n",
        "    credits = [random.randint(5, 15) for r in range (1000)]\n",
        "\n",
        "    course_df = pd.DataFrame ({\n",
        "        'CourseID': course_id,\n",
        "        'CourseName': course_name,\n",
        "        'CourseDepartment': course_dept,\n",
        "        'CourseDuration': course_duration,\n",
        "        'Levels': level,\n",
        "        'Credits': credits\n",
        "    })\n",
        "    course_df.set_index('CourseID', inplace = True )\n",
        "\n",
        "    return course_df\n",
        "\n",
        "def generate_enrollment_data():\n",
        "\n",
        "  enrollment_df = pd.DataFrame ({\n",
        "      \"EnrollmentID\" : [i for i in range(3000, 4000)],\n",
        "      \"StudentID\": [i for i in range(1000, 2000)],\n",
        "      \"CourseID\" : [i for i in range(2000, 3000)],\n",
        "      \"EnrollmentDate\" : generate_random_dates('1990-01-01', '2023-01-01', 1000),\n",
        "      \"Grade\" : fake.random_elements(['A', 'B', 'C', 'D', 'F'], 1000)\n",
        "  })\n",
        "\n",
        "  enrollment_df.set_index('EnrollmentID', inplace = True)\n",
        "\n",
        "  return enrollment_df\n",
        "\n",
        "\n",
        "def generate_instructor_data():\n",
        "\n",
        "  instructor_df = pd.DataFrame({\n",
        "      \"InstructorID\": [i for i in range(4000, 5000)],\n",
        "      \"InstructorName\": [fake.name() for _ in range(1000)],\n",
        "      \"InstructorEmail\": [fake.email() for _ in range(1000)],\n",
        "      \"InstructorPhone\": [fake.phone_number() for _ in range(1000)],\n",
        "      \"InstructorDepartment\": fake.random_elements(['CA', 'PAM'], 1000)\n",
        "  })\n",
        "\n",
        "  instructor_df.set_index('InstructorID', inplace = True)\n",
        "  missing_indices = np.random.choice(instructor_df.index, size = 50, replace=False)\n",
        "  instructor_df.loc[missing_indices, 'InstructorEmail'] = np.nan\n",
        "\n",
        "  return instructor_df\n",
        "\n",
        "\n"
      ],
      "metadata": {
        "id": "c2YzkxOJBDx4"
      },
      "execution_count": null,
      "outputs": []
    },
    {
      "cell_type": "code",
      "source": [],
      "metadata": {
        "id": "PFMwY94HEc9y"
      },
      "execution_count": null,
      "outputs": []
    },
    {
      "cell_type": "code",
      "source": [],
      "metadata": {
        "id": "LSksRgxVEdNj"
      },
      "execution_count": null,
      "outputs": []
    },
    {
      "cell_type": "markdown",
      "source": [],
      "metadata": {
        "id": "UbVPlKF5MXrX"
      }
    },
    {
      "cell_type": "code",
      "source": [
        "num_records = 1000\n",
        "\n",
        "#Generate synthetic student data\n",
        "student_df = generate_student_data(num_records)\n",
        "student_df.head(10)\n",
        "student_df.to_csv('students.csv', index=True)"
      ],
      "metadata": {
        "id": "X-ZvdF47EdzS"
      },
      "execution_count": null,
      "outputs": []
    },
    {
      "cell_type": "code",
      "source": [
        "#Generate course details data\n",
        "course_df = generate_courses_data()\n",
        "course_df.to_csv('course.csv', index=True)"
      ],
      "metadata": {
        "id": "jqj0q9jYd5aw"
      },
      "execution_count": null,
      "outputs": []
    },
    {
      "cell_type": "code",
      "source": [
        "enromment_data = generate_enrollment_data()\n",
        "enromment_data.head(10)\n",
        "enromment_data.to_csv('enrollment.csv', index=True)"
      ],
      "metadata": {
        "id": "OvZL-Q0f1lay"
      },
      "execution_count": null,
      "outputs": []
    },
    {
      "cell_type": "code",
      "source": [
        "instructor_data = generate_instructor_data()\n",
        "instructor_data.head(10)\n",
        "instructor_data.to_csv('instructor.csv', index=True)"
      ],
      "metadata": {
        "id": "qDzJtD_2Dz7_"
      },
      "execution_count": null,
      "outputs": []
    },
    {
      "cell_type": "code",
      "source": [],
      "metadata": {
        "id": "83cdEdlfg8RR"
      },
      "execution_count": null,
      "outputs": []
    }
  ]
}